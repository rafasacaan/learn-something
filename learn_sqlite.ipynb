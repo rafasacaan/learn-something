{
  "nbformat": 4,
  "nbformat_minor": 0,
  "metadata": {
    "colab": {
      "provenance": [],
      "authorship_tag": "ABX9TyO8reJnY7av+dQPxvdfMnbE",
      "include_colab_link": true
    },
    "kernelspec": {
      "name": "python3",
      "display_name": "Python 3"
    },
    "language_info": {
      "name": "python"
    }
  },
  "cells": [
    {
      "cell_type": "markdown",
      "metadata": {
        "id": "view-in-github",
        "colab_type": "text"
      },
      "source": [
        "<a href=\"https://colab.research.google.com/github/rafasacaan/learn-something/blob/main/learn_sqlite.ipynb\" target=\"_parent\"><img src=\"https://colab.research.google.com/assets/colab-badge.svg\" alt=\"Open In Colab\"/></a>"
      ]
    },
    {
      "cell_type": "markdown",
      "source": [
        "# learn-sqlite3"
      ],
      "metadata": {
        "id": "0Wgk98z_9utL"
      }
    },
    {
      "cell_type": "markdown",
      "source": [
        "Pros:\n",
        "- everything\n",
        "\n",
        "Cons:\n",
        "  - not good a concurrent write data"
      ],
      "metadata": {
        "id": "AAnm8Scu9umH"
      }
    },
    {
      "cell_type": "markdown",
      "source": [
        "Let´s imagine we want to build a small employee database. Let´s connect to DB if exists, else, create the DB."
      ],
      "metadata": {
        "id": "wQ-uZQISnzPw"
      }
    },
    {
      "cell_type": "code",
      "execution_count": 1,
      "metadata": {
        "id": "NermkXEFnoE5"
      },
      "outputs": [],
      "source": [
        "import sqlite3\n",
        "\n",
        "conn = sqlite3.connect(\"employee.db\")"
      ]
    },
    {
      "cell_type": "markdown",
      "source": [
        "An empty file **employee.db** for the database is created."
      ],
      "metadata": {
        "id": "fPgiBY4gofu8"
      }
    },
    {
      "cell_type": "code",
      "source": [
        "!ls -lh employee.db"
      ],
      "metadata": {
        "colab": {
          "base_uri": "https://localhost:8080/"
        },
        "id": "eIqo67-R4_YA",
        "outputId": "bfb7dbd8-55ad-4d7e-9cd8-09efaf8eba85"
      },
      "execution_count": 27,
      "outputs": [
        {
          "output_type": "stream",
          "name": "stdout",
          "text": [
            "-rw-r--r-- 1 root root 8.0K Dec  2 14:56 employee.db\n"
          ]
        }
      ]
    },
    {
      "cell_type": "markdown",
      "source": [
        "Another way is to not create a database, and store the data in RAM."
      ],
      "metadata": {
        "id": "HuhKnIMy400S"
      }
    },
    {
      "cell_type": "code",
      "source": [
        "import sqlite3\n",
        "\n",
        "conn = sqlite3.connect(\":memory:\")"
      ],
      "metadata": {
        "id": "3iF7Eztw45_o"
      },
      "execution_count": null,
      "outputs": []
    },
    {
      "cell_type": "markdown",
      "source": [
        "Now, lets create a **cursor**, which lets us run SQL commands."
      ],
      "metadata": {
        "id": "XoYLJ2dco4xj"
      }
    },
    {
      "cell_type": "code",
      "source": [
        "c = conn.cursor()"
      ],
      "metadata": {
        "id": "jRFA5nihoXZf"
      },
      "execution_count": 3,
      "outputs": []
    },
    {
      "cell_type": "markdown",
      "source": [
        "We can now run commands. For example, we can **create a table**. The three commands we will use are:\n",
        "1. execute\n",
        "2. commit\n",
        "3. close connection"
      ],
      "metadata": {
        "id": "7DMiaUNDpQpu"
      }
    },
    {
      "cell_type": "code",
      "source": [
        "c.execute(\"\"\"\n",
        "  CREATE TABLE employees (\n",
        "  first text,\n",
        "  last text,\n",
        "  pay integer\n",
        ")\"\"\")\n",
        "\n",
        "conn.commit()\n",
        "conn.close()"
      ],
      "metadata": {
        "id": "tUMYK71RpbOE"
      },
      "execution_count": 4,
      "outputs": []
    },
    {
      "cell_type": "markdown",
      "source": [
        "Lets insert a sample of data"
      ],
      "metadata": {
        "id": "xsE5qe48rY8_"
      }
    },
    {
      "cell_type": "code",
      "source": [
        "conn = sqlite3.connect(\"employee.db\")\n",
        "c = conn.cursor()"
      ],
      "metadata": {
        "id": "WnYhjQ6lrnXV"
      },
      "execution_count": 5,
      "outputs": []
    },
    {
      "cell_type": "code",
      "source": [
        "c.execute(\"\"\"\n",
        "  INSERT INTO employees VALUES (\n",
        "  'Juan', 'Salvador', 10000\n",
        ")\"\"\")\n",
        "\n",
        "c.execute(\"\"\"\n",
        "  INSERT INTO employees VALUES (\n",
        "  'Pedro', 'Salvador', 5000\n",
        ")\"\"\")\n",
        "\n",
        "c.execute(\"\"\"\n",
        "  INSERT INTO employees VALUES (\n",
        "  'Pablo', 'Santos', 1000\n",
        ")\"\"\")\n",
        "\n",
        "conn.commit()\n",
        "conn.close()"
      ],
      "metadata": {
        "id": "A6jtZGSqqWWV"
      },
      "execution_count": 6,
      "outputs": []
    },
    {
      "cell_type": "markdown",
      "source": [
        "Lets now query our table"
      ],
      "metadata": {
        "id": "4I7FjpKAsGzQ"
      }
    },
    {
      "cell_type": "code",
      "source": [
        "conn = sqlite3.connect(\"employee.db\")\n",
        "c = conn.cursor()"
      ],
      "metadata": {
        "id": "0bdGP-g0sK6S"
      },
      "execution_count": 10,
      "outputs": []
    },
    {
      "cell_type": "code",
      "source": [
        "c.execute(\"\"\"\n",
        "  SELECT * FROM employees WHERE last = 'Salvador'\n",
        "\"\"\")\n",
        "\n",
        "c.fetchone() # fetch next row"
      ],
      "metadata": {
        "colab": {
          "base_uri": "https://localhost:8080/"
        },
        "id": "cxGqvQtCrkb0",
        "outputId": "e09014df-f7c6-4fdc-f592-f872d7f8a16c"
      },
      "execution_count": 18,
      "outputs": [
        {
          "output_type": "execute_result",
          "data": {
            "text/plain": [
              "('Juan', 'Salvador', 10000)"
            ]
          },
          "metadata": {},
          "execution_count": 18
        }
      ]
    },
    {
      "cell_type": "code",
      "source": [
        "c.execute(\"\"\"\n",
        "  SELECT * FROM employees WHERE last = 'Salvador'\n",
        "\"\"\")\n",
        "\n",
        "c.fetchmany(3) # ask for 3 results"
      ],
      "metadata": {
        "colab": {
          "base_uri": "https://localhost:8080/"
        },
        "id": "qVu1mQROsTka",
        "outputId": "773f6d2d-f1a7-4379-9e99-8e32f657dfd0"
      },
      "execution_count": 19,
      "outputs": [
        {
          "output_type": "execute_result",
          "data": {
            "text/plain": [
              "[('Juan', 'Salvador', 10000), ('Pedro', 'Salvador', 5000)]"
            ]
          },
          "metadata": {},
          "execution_count": 19
        }
      ]
    },
    {
      "cell_type": "code",
      "source": [
        "c.execute(\"\"\"\n",
        "  SELECT * FROM employees WHERE last = 'Salvador'\n",
        "\"\"\")\n",
        "\n",
        "c.fetchall()"
      ],
      "metadata": {
        "colab": {
          "base_uri": "https://localhost:8080/"
        },
        "id": "Q-8cNS7CszpU",
        "outputId": "3f3c8c1f-e534-4dbd-9f48-29f49b5efae2"
      },
      "execution_count": 20,
      "outputs": [
        {
          "output_type": "execute_result",
          "data": {
            "text/plain": [
              "[('Juan', 'Salvador', 10000), ('Pedro', 'Salvador', 5000)]"
            ]
          },
          "metadata": {},
          "execution_count": 20
        }
      ]
    },
    {
      "cell_type": "markdown",
      "source": [
        "Now lets create an employee class in python"
      ],
      "metadata": {
        "id": "m6hMKSfuvtDe"
      }
    },
    {
      "cell_type": "code",
      "source": [
        "class Employee:\n",
        "  \"\"\"A sample employee class\"\"\"\n",
        "\n",
        "  def __init__(self, first, last, pay):\n",
        "    self.first = first\n",
        "    self.last = last\n",
        "    self.pay = pay\n",
        "\n",
        "  @property\n",
        "  def email(self):\n",
        "    return \"{}.{}@email.com\".format(self.first, self.last)\n",
        "\n",
        "  @property\n",
        "  def fullname(self):\n",
        "    return \"{} {}\".format(self.first, self.last)\n",
        "\n",
        "  @property\n",
        "  def __repr__(self):\n",
        "    return \"Employee('{}', '{}', {})\".format(self.first, self.last, self.pay)"
      ],
      "metadata": {
        "id": "TG2Uet2Ls0GI"
      },
      "execution_count": 21,
      "outputs": []
    },
    {
      "cell_type": "markdown",
      "source": [
        "To ensure proper data injection security-wise, we can do the following."
      ],
      "metadata": {
        "id": "sPJi1f7s2w0x"
      }
    },
    {
      "cell_type": "code",
      "source": [
        "#from file_name import Employee\n",
        "\n",
        "emp_1 = Employee('John','Doe', 1000)\n",
        "emp_2 = Employee('Jane','Doe', 3000)\n",
        "\n",
        "c.execute(\"INSERT INTO employees VALUES (:first, :last, :pay)\", {'first': emp_1.first, 'last': emp_1.last, 'pay': emp_1.pay})\n",
        "c.execute(\"INSERT INTO employees VALUES (:first, :last, :pay)\", {'first': emp_2.first, 'last': emp_2.last, 'pay': emp_2.pay})\n",
        "conn.commit()"
      ],
      "metadata": {
        "id": "j39LkZrtwNqT"
      },
      "execution_count": 24,
      "outputs": []
    },
    {
      "cell_type": "code",
      "source": [
        "c.execute(\"\"\"SELECT * FROM employees WHERE last = 'Doe'\"\"\")\n",
        "c.fetchall()"
      ],
      "metadata": {
        "colab": {
          "base_uri": "https://localhost:8080/"
        },
        "id": "Ev_fnJL93CJn",
        "outputId": "b4c3dbb4-efbe-4bc2-fbba-e884a4ab64fa"
      },
      "execution_count": 28,
      "outputs": [
        {
          "output_type": "execute_result",
          "data": {
            "text/plain": [
              "[('John', 'Doe', 1000), ('John', 'Doe', 1000), ('Jane', 'Doe', 3000)]"
            ]
          },
          "metadata": {},
          "execution_count": 28
        }
      ]
    },
    {
      "cell_type": "markdown",
      "source": [
        "Create functions to handle custom database operations."
      ],
      "metadata": {
        "id": "DJeNKXZd7a0v"
      }
    },
    {
      "cell_type": "code",
      "source": [
        "def update_pay(emp, pay):\n",
        "    with conn:\n",
        "        c.execute(\"\"\"UPDATE employees SET pay = :pay\n",
        "                    WHERE first = :first AND last = :last\"\"\",\n",
        "                  {'first': emp.first, 'last': emp.last, 'pay': pay})\n",
        "\n",
        "\n",
        "def remove_emp(emp):\n",
        "    with conn:\n",
        "        c.execute(\"DELETE from employees WHERE first = :first AND last = :last\",\n",
        "                  {'first': emp.first, 'last': emp.last})"
      ],
      "metadata": {
        "id": "0BWCgU9239h8"
      },
      "execution_count": null,
      "outputs": []
    }
  ]
}